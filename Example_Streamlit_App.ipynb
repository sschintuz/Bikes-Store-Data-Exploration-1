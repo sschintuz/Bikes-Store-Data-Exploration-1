{
  "nbformat": 4,
  "nbformat_minor": 0,
  "metadata": {
    "colab": {
      "provenance": [],
      "include_colab_link": true
    },
    "kernelspec": {
      "name": "python3",
      "display_name": "Python 3"
    },
    "language_info": {
      "name": "python"
    }
  },
  "cells": [
    {
      "cell_type": "markdown",
      "metadata": {
        "id": "view-in-github",
        "colab_type": "text"
      },
      "source": [
        "<a href=\"https://colab.research.google.com/github/sschintuz/Bikes-Store-Data-Exploration-1/blob/main/Example_Streamlit_App.ipynb\" target=\"_parent\"><img src=\"https://colab.research.google.com/assets/colab-badge.svg\" alt=\"Open In Colab\"/></a>"
      ]
    },
    {
      "cell_type": "markdown",
      "source": [
        "\n",
        "\n",
        "# Step 1\n",
        "Install streamlit to Google machine <br>\n",
        "You will have to do this EVERY TIME\n"
      ],
      "metadata": {
        "id": "6CYLawhlETqY"
      }
    },
    {
      "cell_type": "code",
      "execution_count": null,
      "metadata": {
        "id": "aLFazAx1Swbd"
      },
      "outputs": [],
      "source": [
        "!pip install -q streamlit"
      ]
    },
    {
      "cell_type": "markdown",
      "source": [
        "# Step 2\n",
        "Write your app to a python file on <br>\n",
        "the Google machine"
      ],
      "metadata": {
        "id": "j2fBEVthEYYO"
      }
    },
    {
      "cell_type": "code",
      "source": [
        "%%writefile app.py\n",
        "\n",
        "import streamlit as st\n",
        "\n",
        "# Sample data dictionary\n",
        "data = {\n",
        "    \"Beer_Style\": ['IPA', 'Pale Ale', 'Porter'],\n",
        "    \"Avg_ABV\": [6.4, 5.2, 5.8]\n",
        "}\n",
        "\n",
        "# Streamlit app\n",
        "def main():\n",
        "    st.title(\"Beer Data App\")\n",
        "\n",
        "    selected_style = st.selectbox(\"Select Beer Style:\", data[\"Beer_Style\"])\n",
        "    selected_measure = st.selectbox(\"Select Measure:\", list(data.keys())[1:])  # Exclude \"Beer_Style\"\n",
        "\n",
        "    index = data[\"Beer_Style\"].index(selected_style)\n",
        "    selected_value = data[selected_measure][index]\n",
        "\n",
        "    st.write(f\"The {selected_measure} for {selected_style} is {selected_value}\")\n",
        "\n",
        "    num_beers_per_day = st.selectbox(\"Select Number of Beers Per Day:\", [1, 2, 3, 4])\n",
        "\n",
        "    if selected_measure == \"Avg_ABV\":\n",
        "        yearly_ounces = 16 * (selected_value / 100) * 365 * num_beers_per_day\n",
        "        st.write(f\"If you drink {num_beers_per_day} {selected_style} beer(s) per day, you would consume approximately {yearly_ounces:.2f} ounces of alcohol per year.\")\n",
        "\n",
        "if __name__ == \"__main__\":\n",
        "    main()\n",
        "\n"
      ],
      "metadata": {
        "colab": {
          "base_uri": "https://localhost:8080/"
        },
        "id": "KV0bPIu9tW3x",
        "outputId": "bde6bf11-5eac-47f3-f6a1-cbd04820e727"
      },
      "execution_count": null,
      "outputs": [
        {
          "output_type": "stream",
          "name": "stdout",
          "text": [
            "Overwriting app.py\n"
          ]
        }
      ]
    },
    {
      "cell_type": "markdown",
      "source": [
        "# Step 3\n",
        "Run the app\n",
        "1. copy the IP address that prints out\n",
        "2. click on the url (it will change every time)\n",
        "3. Paste the IP address in the Endpoint IP field\n",
        "4. Click the submit button\n",
        "\n",
        "Your app should open in a new browser tab\n",
        "<br>\n",
        "When you're done with your app.  Come back to Google Collab <br>\n",
        "and be sure to STOP the running streamlit cell."
      ],
      "metadata": {
        "id": "78jfsIDWFMr4"
      }
    },
    {
      "cell_type": "code",
      "source": [
        "!streamlit run app.py &>/content/logs.txt & npx localtunnel --port 8501 & wget -q -O - ipv4.icanhazip.com"
      ],
      "metadata": {
        "colab": {
          "base_uri": "https://localhost:8080/"
        },
        "id": "1tiIgeDiEH7s",
        "outputId": "d72c5dbe-2afb-4e02-e696-30ef5645f4b8"
      },
      "execution_count": null,
      "outputs": [
        {
          "metadata": {
            "tags": null
          },
          "name": "stdout",
          "output_type": "stream",
          "text": [
            "34.125.30.237\n",
            "\u001b[K\u001b[?25hnpx: installed 22 in 3.58s\n",
            "your url is: https://bright-mammals-allow.loca.lt\n"
          ]
        }
      ]
    },
    {
      "cell_type": "code",
      "source": [],
      "metadata": {
        "id": "1GQhgFIpEIp9"
      },
      "execution_count": null,
      "outputs": []
    },
    {
      "cell_type": "code",
      "source": [],
      "metadata": {
        "id": "q7An7p1-FLe3"
      },
      "execution_count": null,
      "outputs": []
    },
    {
      "cell_type": "code",
      "source": [],
      "metadata": {
        "id": "nAcOEhvEFLUR"
      },
      "execution_count": null,
      "outputs": []
    },
    {
      "cell_type": "code",
      "source": [],
      "metadata": {
        "id": "uvG_XsIkFLFi"
      },
      "execution_count": null,
      "outputs": []
    },
    {
      "cell_type": "code",
      "source": [],
      "metadata": {
        "id": "tQcBGnTVFKzl"
      },
      "execution_count": null,
      "outputs": []
    },
    {
      "cell_type": "code",
      "source": [],
      "metadata": {
        "id": "w-j-dvH9FKj_"
      },
      "execution_count": null,
      "outputs": []
    },
    {
      "cell_type": "code",
      "source": [],
      "metadata": {
        "id": "qiou_g0IFKMl"
      },
      "execution_count": null,
      "outputs": []
    },
    {
      "cell_type": "code",
      "source": [],
      "metadata": {
        "id": "Ab2pvC2bEJii"
      },
      "execution_count": null,
      "outputs": []
    },
    {
      "cell_type": "code",
      "source": [],
      "metadata": {
        "id": "8MZhCKnWEJ7P"
      },
      "execution_count": null,
      "outputs": []
    },
    {
      "cell_type": "code",
      "source": [],
      "metadata": {
        "id": "BciE1RpiEKUA"
      },
      "execution_count": null,
      "outputs": []
    },
    {
      "cell_type": "code",
      "source": [],
      "metadata": {
        "id": "FVgtZpQRELFX"
      },
      "execution_count": null,
      "outputs": []
    },
    {
      "cell_type": "code",
      "source": [
        "!npm install localtunnel"
      ],
      "metadata": {
        "colab": {
          "base_uri": "https://localhost:8080/"
        },
        "id": "xFAWUw9itXyQ",
        "outputId": "75db2cb3-fc04-42d9-886f-39bfd10eea91"
      },
      "execution_count": null,
      "outputs": [
        {
          "output_type": "stream",
          "name": "stdout",
          "text": [
            "\u001b[K\u001b[?25h\u001b[37;40mnpm\u001b[0m \u001b[0m\u001b[30;43mWARN\u001b[0m \u001b[0m\u001b[35msaveError\u001b[0m ENOENT: no such file or directory, open '/content/package.json'\n",
            "\u001b[0m\u001b[37;40mnpm\u001b[0m \u001b[0m\u001b[34;40mnotice\u001b[0m\u001b[35m\u001b[0m created a lockfile as package-lock.json. You should commit this file.\n",
            "\u001b[0m\u001b[37;40mnpm\u001b[0m \u001b[0m\u001b[30;43mWARN\u001b[0m \u001b[0m\u001b[35menoent\u001b[0m ENOENT: no such file or directory, open '/content/package.json'\n",
            "\u001b[0m\u001b[37;40mnpm\u001b[0m \u001b[0m\u001b[30;43mWARN\u001b[0m\u001b[35m\u001b[0m content No description\n",
            "\u001b[0m\u001b[37;40mnpm\u001b[0m \u001b[0m\u001b[30;43mWARN\u001b[0m\u001b[35m\u001b[0m content No repository field.\n",
            "\u001b[0m\u001b[37;40mnpm\u001b[0m \u001b[0m\u001b[30;43mWARN\u001b[0m\u001b[35m\u001b[0m content No README data\n",
            "\u001b[0m\u001b[37;40mnpm\u001b[0m \u001b[0m\u001b[30;43mWARN\u001b[0m\u001b[35m\u001b[0m content No license field.\n",
            "\u001b[0m\n",
            "+ localtunnel@2.0.2\n",
            "added 22 packages from 22 contributors and audited 22 packages in 2.169s\n",
            "\n",
            "3 packages are looking for funding\n",
            "  run `npm fund` for details\n",
            "\n",
            "found \u001b[92m0\u001b[0m vulnerabilities\n",
            "\n",
            "\u001b[K\u001b[?25h"
          ]
        }
      ]
    },
    {
      "cell_type": "code",
      "source": [
        "!streamlit run app.py &>/content/logs.txt & npx localtunnel --port 8501 & wget -q -O - ipv4.icanhazip.com"
      ],
      "metadata": {
        "colab": {
          "base_uri": "https://localhost:8080/"
        },
        "id": "z2hxViGot1mi",
        "outputId": "1a7b0733-cc61-4848-8978-d1998e8dfe10"
      },
      "execution_count": null,
      "outputs": [
        {
          "output_type": "stream",
          "name": "stdout",
          "text": [
            "35.196.20.84\n",
            "\u001b[K\u001b[?25hnpx: installed 22 in 4.584s\n",
            "your url is: https://tidy-spies-fail.loca.lt\n"
          ]
        }
      ]
    },
    {
      "cell_type": "code",
      "source": [],
      "metadata": {
        "id": "fep8xmN3Z0L2"
      },
      "execution_count": null,
      "outputs": []
    }
  ]
}